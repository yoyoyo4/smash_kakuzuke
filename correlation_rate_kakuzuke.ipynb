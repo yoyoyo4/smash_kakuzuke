{
 "cells": [
  {
   "cell_type": "code",
   "execution_count": null,
   "metadata": {},
   "outputs": [],
   "source": [
    "# スマブラー格付けチェックの正誤で分けた2群について、スマメイトレートに有意差があるか調べる"
   ]
  },
  {
   "cell_type": "code",
   "execution_count": null,
   "metadata": {},
   "outputs": [],
   "source": []
  },
  {
   "cell_type": "code",
   "execution_count": 1,
   "metadata": {},
   "outputs": [],
   "source": [
    "from scipy import stats\n",
    "import pandas as pd\n",
    "import numpy as np\n",
    "import matplotlib.pyplot as plt\n",
    "import math\n",
    "from cliffs_delta import cliffs_delta\n",
    "import seaborn as sns"
   ]
  },
  {
   "cell_type": "code",
   "execution_count": 2,
   "metadata": {},
   "outputs": [],
   "source": [
    "from IPython.core.interactiveshell import InteractiveShell\n",
    "InteractiveShell.ast_node_interactivity = \"all\""
   ]
  },
  {
   "cell_type": "code",
   "execution_count": 3,
   "metadata": {},
   "outputs": [
    {
     "data": {
      "text/html": [
       "<div>\n",
       "<style scoped>\n",
       "    .dataframe tbody tr th:only-of-type {\n",
       "        vertical-align: middle;\n",
       "    }\n",
       "\n",
       "    .dataframe tbody tr th {\n",
       "        vertical-align: top;\n",
       "    }\n",
       "\n",
       "    .dataframe thead th {\n",
       "        text-align: right;\n",
       "    }\n",
       "</style>\n",
       "<table border=\"1\" class=\"dataframe\">\n",
       "  <thead>\n",
       "    <tr style=\"text-align: right;\">\n",
       "      <th></th>\n",
       "      <th>vote</th>\n",
       "      <th>tw_time</th>\n",
       "      <th>twitter_user_id</th>\n",
       "      <th>twitter_user_name</th>\n",
       "      <th>twitter_user_screen_name</th>\n",
       "      <th>twitter_user_followers_count</th>\n",
       "      <th>vote_url</th>\n",
       "      <th>is_quote</th>\n",
       "      <th>twitter_user_prof</th>\n",
       "      <th>main</th>\n",
       "      <th>delta_hours</th>\n",
       "      <th>mypage_url</th>\n",
       "      <th>smamate_rate</th>\n",
       "    </tr>\n",
       "  </thead>\n",
       "  <tbody>\n",
       "    <tr>\n",
       "      <th>0</th>\n",
       "      <td>A</td>\n",
       "      <td>2021-12-29 18:12:42+09:00</td>\n",
       "      <td>995831063392829440</td>\n",
       "      <td>神祖覇天</td>\n",
       "      <td>FERoyThany</td>\n",
       "      <td>827</td>\n",
       "      <td>twitter.com/FERoyThany/status/1476118971724480512</td>\n",
       "      <td>False</td>\n",
       "      <td>SSBU: Byleth/ミラー世界最弱/最近エアライド熱再燃してます/金鹿の学級担任/アイ...</td>\n",
       "      <td>other</td>\n",
       "      <td>0</td>\n",
       "      <td>NaN</td>\n",
       "      <td>NaN</td>\n",
       "    </tr>\n",
       "    <tr>\n",
       "      <th>1</th>\n",
       "      <td>B</td>\n",
       "      <td>2021-12-29 18:13:25+09:00</td>\n",
       "      <td>400069662</td>\n",
       "      <td>とら(ケンタロスでした)</td>\n",
       "      <td>tiger_1211</td>\n",
       "      <td>62</td>\n",
       "      <td>twitter.com/tiger_1211/status/1476119150208892930</td>\n",
       "      <td>False</td>\n",
       "      <td>某氏の動画で紹介されていた構築が公開終了されていても声掛けいただければもっかい公開します 質...</td>\n",
       "      <td>other</td>\n",
       "      <td>0</td>\n",
       "      <td>https://smashmate.net/user/59069/</td>\n",
       "      <td>NaN</td>\n",
       "    </tr>\n",
       "    <tr>\n",
       "      <th>2</th>\n",
       "      <td>B</td>\n",
       "      <td>2021-12-29 18:13:38+09:00</td>\n",
       "      <td>1252562177359138817</td>\n",
       "      <td>ペケ</td>\n",
       "      <td>peke_pcg</td>\n",
       "      <td>51</td>\n",
       "      <td>twitter.com/peke_pcg/status/1476119207893159942</td>\n",
       "      <td>False</td>\n",
       "      <td>PTCGO</td>\n",
       "      <td>other</td>\n",
       "      <td>0</td>\n",
       "      <td>NaN</td>\n",
       "      <td>NaN</td>\n",
       "    </tr>\n",
       "    <tr>\n",
       "      <th>3</th>\n",
       "      <td>A</td>\n",
       "      <td>2021-12-29 18:15:11+09:00</td>\n",
       "      <td>1109679787126087681</td>\n",
       "      <td>G&amp;W|ヨセフ@ゲッチ</td>\n",
       "      <td>andoyosefGW</td>\n",
       "      <td>293</td>\n",
       "      <td>twitter.com/andoyosefGW/status/147611959550558...</td>\n",
       "      <td>False</td>\n",
       "      <td>スマブラ垢です\\nオフラインは本当に当分厳しそう</td>\n",
       "      <td>other</td>\n",
       "      <td>0</td>\n",
       "      <td>https://smashmate.net/user/43399/</td>\n",
       "      <td>1468.0</td>\n",
       "    </tr>\n",
       "    <tr>\n",
       "      <th>4</th>\n",
       "      <td>B</td>\n",
       "      <td>2021-12-29 18:15:14+09:00</td>\n",
       "      <td>1344964453415043072</td>\n",
       "      <td>にそじそ</td>\n",
       "      <td>Real_Ninjin</td>\n",
       "      <td>250</td>\n",
       "      <td>twitter.com/Real_Ninjin/status/147611960732513...</td>\n",
       "      <td>False</td>\n",
       "      <td>スマブラ2000　ユナイト1850</td>\n",
       "      <td>other</td>\n",
       "      <td>0</td>\n",
       "      <td>https://smashmate.net/user/78651/</td>\n",
       "      <td>NaN</td>\n",
       "    </tr>\n",
       "    <tr>\n",
       "      <th>...</th>\n",
       "      <td>...</td>\n",
       "      <td>...</td>\n",
       "      <td>...</td>\n",
       "      <td>...</td>\n",
       "      <td>...</td>\n",
       "      <td>...</td>\n",
       "      <td>...</td>\n",
       "      <td>...</td>\n",
       "      <td>...</td>\n",
       "      <td>...</td>\n",
       "      <td>...</td>\n",
       "      <td>...</td>\n",
       "      <td>...</td>\n",
       "    </tr>\n",
       "    <tr>\n",
       "      <th>1864</th>\n",
       "      <td>A</td>\n",
       "      <td>2021-12-30 17:56:54+09:00</td>\n",
       "      <td>1371813202497925124</td>\n",
       "      <td>ちょん/Chon</td>\n",
       "      <td>Chon62389671</td>\n",
       "      <td>1346</td>\n",
       "      <td>twitter.com/Chon62389671/status/14764773830291...</td>\n",
       "      <td>False</td>\n",
       "      <td>ちょん鯖に入りたい人はDMまでお願いします\\nピカチュウ│ホムヒカ│セフィロス│ロイ\\nスマ...</td>\n",
       "      <td>other</td>\n",
       "      <td>23</td>\n",
       "      <td>https://smashmate.net/user/87154/</td>\n",
       "      <td>1622.0</td>\n",
       "    </tr>\n",
       "    <tr>\n",
       "      <th>1865</th>\n",
       "      <td>A</td>\n",
       "      <td>2021-12-30 17:57:27+09:00</td>\n",
       "      <td>2231279402</td>\n",
       "      <td>あこ</td>\n",
       "      <td>Ak0sandaze</td>\n",
       "      <td>950</td>\n",
       "      <td>twitter.com/Ak0sandaze/status/1476477522846306305</td>\n",
       "      <td>False</td>\n",
       "      <td>生きてます</td>\n",
       "      <td>other</td>\n",
       "      <td>23</td>\n",
       "      <td>https://smashmate.net/user/886/</td>\n",
       "      <td>1546.0</td>\n",
       "    </tr>\n",
       "    <tr>\n",
       "      <th>1866</th>\n",
       "      <td>B</td>\n",
       "      <td>2021-12-30 17:57:45+09:00</td>\n",
       "      <td>940477989082472448</td>\n",
       "      <td>じぇりぃ</td>\n",
       "      <td>jerry_raramagi</td>\n",
       "      <td>125</td>\n",
       "      <td>twitter.com/jerry_raramagi/status/147647759910...</td>\n",
       "      <td>False</td>\n",
       "      <td>出雲霞が好き\\n\\nららマジ スマブラ ウマ娘 osu! が好き\\n最近は原神にドハマりして...</td>\n",
       "      <td>other</td>\n",
       "      <td>23</td>\n",
       "      <td>https://smashmate.net/user/41121/</td>\n",
       "      <td>NaN</td>\n",
       "    </tr>\n",
       "    <tr>\n",
       "      <th>1867</th>\n",
       "      <td>A</td>\n",
       "      <td>2021-12-30 17:58:28+09:00</td>\n",
       "      <td>2890454023</td>\n",
       "      <td>kept/Rush Gaming</td>\n",
       "      <td>FaintKept</td>\n",
       "      <td>45506</td>\n",
       "      <td>twitter.com/FaintKept/status/1476477777922891777</td>\n",
       "      <td>False</td>\n",
       "      <td>EPI主催\\n\\nスマブラSP日本ランク16位\\nスマブラを軸に色々なことを楽しんでます\\n...</td>\n",
       "      <td>other</td>\n",
       "      <td>23</td>\n",
       "      <td>https://smashmate.net/user/302/</td>\n",
       "      <td>1595.0</td>\n",
       "    </tr>\n",
       "    <tr>\n",
       "      <th>1868</th>\n",
       "      <td>A</td>\n",
       "      <td>2021-12-30 17:59:31+09:00</td>\n",
       "      <td>783181429509283840</td>\n",
       "      <td>とりしゅ</td>\n",
       "      <td>Trishu_0tk</td>\n",
       "      <td>147</td>\n",
       "      <td>twitter.com/Trishu_0tk/status/1476478043279749121</td>\n",
       "      <td>False</td>\n",
       "      <td>SSBU: ⚔️ / APEX / Trysail / Roselia / V:🥞💫 🌶 🍃...</td>\n",
       "      <td>other</td>\n",
       "      <td>23</td>\n",
       "      <td>https://smashmate.net/user/31344/</td>\n",
       "      <td>1445.0</td>\n",
       "    </tr>\n",
       "  </tbody>\n",
       "</table>\n",
       "<p>1869 rows × 13 columns</p>\n",
       "</div>"
      ],
      "text/plain": [
       "     vote                    tw_time      twitter_user_id twitter_user_name  \\\n",
       "0       A  2021-12-29 18:12:42+09:00   995831063392829440              神祖覇天   \n",
       "1       B  2021-12-29 18:13:25+09:00            400069662      とら(ケンタロスでした)   \n",
       "2       B  2021-12-29 18:13:38+09:00  1252562177359138817                ペケ   \n",
       "3       A  2021-12-29 18:15:11+09:00  1109679787126087681       G&W|ヨセフ@ゲッチ   \n",
       "4       B  2021-12-29 18:15:14+09:00  1344964453415043072              にそじそ   \n",
       "...   ...                        ...                  ...               ...   \n",
       "1864    A  2021-12-30 17:56:54+09:00  1371813202497925124          ちょん/Chon   \n",
       "1865    A  2021-12-30 17:57:27+09:00           2231279402                あこ   \n",
       "1866    B  2021-12-30 17:57:45+09:00   940477989082472448              じぇりぃ   \n",
       "1867    A  2021-12-30 17:58:28+09:00           2890454023  kept/Rush Gaming   \n",
       "1868    A  2021-12-30 17:59:31+09:00   783181429509283840              とりしゅ   \n",
       "\n",
       "     twitter_user_screen_name  twitter_user_followers_count  \\\n",
       "0                  FERoyThany                           827   \n",
       "1                  tiger_1211                            62   \n",
       "2                    peke_pcg                            51   \n",
       "3                 andoyosefGW                           293   \n",
       "4                 Real_Ninjin                           250   \n",
       "...                       ...                           ...   \n",
       "1864             Chon62389671                          1346   \n",
       "1865               Ak0sandaze                           950   \n",
       "1866           jerry_raramagi                           125   \n",
       "1867                FaintKept                         45506   \n",
       "1868               Trishu_0tk                           147   \n",
       "\n",
       "                                               vote_url  is_quote  \\\n",
       "0     twitter.com/FERoyThany/status/1476118971724480512     False   \n",
       "1     twitter.com/tiger_1211/status/1476119150208892930     False   \n",
       "2       twitter.com/peke_pcg/status/1476119207893159942     False   \n",
       "3     twitter.com/andoyosefGW/status/147611959550558...     False   \n",
       "4     twitter.com/Real_Ninjin/status/147611960732513...     False   \n",
       "...                                                 ...       ...   \n",
       "1864  twitter.com/Chon62389671/status/14764773830291...     False   \n",
       "1865  twitter.com/Ak0sandaze/status/1476477522846306305     False   \n",
       "1866  twitter.com/jerry_raramagi/status/147647759910...     False   \n",
       "1867   twitter.com/FaintKept/status/1476477777922891777     False   \n",
       "1868  twitter.com/Trishu_0tk/status/1476478043279749121     False   \n",
       "\n",
       "                                      twitter_user_prof   main  delta_hours  \\\n",
       "0     SSBU: Byleth/ミラー世界最弱/最近エアライド熱再燃してます/金鹿の学級担任/アイ...  other            0   \n",
       "1     某氏の動画で紹介されていた構築が公開終了されていても声掛けいただければもっかい公開します 質...  other            0   \n",
       "2                                                 PTCGO  other            0   \n",
       "3                              スマブラ垢です\\nオフラインは本当に当分厳しそう  other            0   \n",
       "4                                     スマブラ2000　ユナイト1850  other            0   \n",
       "...                                                 ...    ...          ...   \n",
       "1864  ちょん鯖に入りたい人はDMまでお願いします\\nピカチュウ│ホムヒカ│セフィロス│ロイ\\nスマ...  other           23   \n",
       "1865                                              生きてます  other           23   \n",
       "1866  出雲霞が好き\\n\\nららマジ スマブラ ウマ娘 osu! が好き\\n最近は原神にドハマりして...  other           23   \n",
       "1867  EPI主催\\n\\nスマブラSP日本ランク16位\\nスマブラを軸に色々なことを楽しんでます\\n...  other           23   \n",
       "1868  SSBU: ⚔️ / APEX / Trysail / Roselia / V:🥞💫 🌶 🍃...  other           23   \n",
       "\n",
       "                             mypage_url  smamate_rate  \n",
       "0                                   NaN           NaN  \n",
       "1     https://smashmate.net/user/59069/           NaN  \n",
       "2                                   NaN           NaN  \n",
       "3     https://smashmate.net/user/43399/        1468.0  \n",
       "4     https://smashmate.net/user/78651/           NaN  \n",
       "...                                 ...           ...  \n",
       "1864  https://smashmate.net/user/87154/        1622.0  \n",
       "1865    https://smashmate.net/user/886/        1546.0  \n",
       "1866  https://smashmate.net/user/41121/           NaN  \n",
       "1867    https://smashmate.net/user/302/        1595.0  \n",
       "1868  https://smashmate.net/user/31344/        1445.0  \n",
       "\n",
       "[1869 rows x 13 columns]"
      ]
     },
     "execution_count": 3,
     "metadata": {},
     "output_type": "execute_result"
    }
   ],
   "source": [
    "# 回答･レートデータ読み込み\n",
    "\n",
    "df = pd.read_csv(\"df_vote_and_rate.csv\", encoding=\"utf-8-sig\")\n",
    "df"
   ]
  },
  {
   "cell_type": "code",
   "execution_count": 60,
   "metadata": {},
   "outputs": [
    {
     "data": {
      "text/html": [
       "<div>\n",
       "<style scoped>\n",
       "    .dataframe tbody tr th:only-of-type {\n",
       "        vertical-align: middle;\n",
       "    }\n",
       "\n",
       "    .dataframe tbody tr th {\n",
       "        vertical-align: top;\n",
       "    }\n",
       "\n",
       "    .dataframe thead th {\n",
       "        text-align: right;\n",
       "    }\n",
       "</style>\n",
       "<table border=\"1\" class=\"dataframe\">\n",
       "  <thead>\n",
       "    <tr style=\"text-align: right;\">\n",
       "      <th></th>\n",
       "      <th>vote</th>\n",
       "      <th>A</th>\n",
       "      <th>B</th>\n",
       "    </tr>\n",
       "  </thead>\n",
       "  <tbody>\n",
       "    <tr>\n",
       "      <th rowspan=\"8\" valign=\"top\">smamate_rate</th>\n",
       "      <th>count</th>\n",
       "      <td>353.000000</td>\n",
       "      <td>333.000000</td>\n",
       "    </tr>\n",
       "    <tr>\n",
       "      <th>mean</th>\n",
       "      <td>1548.764873</td>\n",
       "      <td>1527.921922</td>\n",
       "    </tr>\n",
       "    <tr>\n",
       "      <th>std</th>\n",
       "      <td>118.165926</td>\n",
       "      <td>109.847868</td>\n",
       "    </tr>\n",
       "    <tr>\n",
       "      <th>min</th>\n",
       "      <td>1253.000000</td>\n",
       "      <td>1209.000000</td>\n",
       "    </tr>\n",
       "    <tr>\n",
       "      <th>25%</th>\n",
       "      <td>1470.000000</td>\n",
       "      <td>1463.000000</td>\n",
       "    </tr>\n",
       "    <tr>\n",
       "      <th>50%</th>\n",
       "      <td>1524.000000</td>\n",
       "      <td>1508.000000</td>\n",
       "    </tr>\n",
       "    <tr>\n",
       "      <th>75%</th>\n",
       "      <td>1608.000000</td>\n",
       "      <td>1581.000000</td>\n",
       "    </tr>\n",
       "    <tr>\n",
       "      <th>max</th>\n",
       "      <td>1915.000000</td>\n",
       "      <td>1916.000000</td>\n",
       "    </tr>\n",
       "  </tbody>\n",
       "</table>\n",
       "</div>"
      ],
      "text/plain": [
       "vote                          A            B\n",
       "smamate_rate count   353.000000   333.000000\n",
       "             mean   1548.764873  1527.921922\n",
       "             std     118.165926   109.847868\n",
       "             min    1253.000000  1209.000000\n",
       "             25%    1470.000000  1463.000000\n",
       "             50%    1524.000000  1508.000000\n",
       "             75%    1608.000000  1581.000000\n",
       "             max    1915.000000  1916.000000"
      ]
     },
     "execution_count": 60,
     "metadata": {},
     "output_type": "execute_result"
    }
   ],
   "source": [
    "# 基本統計量を確認\n",
    "\n",
    "(df\n",
    " [df.smamate_rate > 0]\n",
    " [[\"vote\", \"smamate_rate\"]]\n",
    " .assign(smamate_rate = lambda x: x.smamate_rate.astype(int))\n",
    " .groupby(\"vote\")\n",
    " .describe()\n",
    " .T\n",
    ")"
   ]
  },
  {
   "cell_type": "code",
   "execution_count": 67,
   "metadata": {},
   "outputs": [
    {
     "data": {
      "text/plain": [
       "<matplotlib.axes._subplots.AxesSubplot at 0x1541488b520>"
      ]
     },
     "execution_count": 67,
     "metadata": {},
     "output_type": "execute_result"
    },
    {
     "data": {
      "image/png": "[encoded data removed]",
      "text/plain": [
       "<Figure size 432x288 with 1 Axes>"
      ]
     },
     "metadata": {
      "needs_background": "light"
     },
     "output_type": "display_data"
    }
   ],
   "source": [
    "# 回答ごとにバイオリンプロット\n",
    "\n",
    "sns.violinplot(x=df.vote, y=df.smamate_rate, palette=['red','dodgerblue'], inner=\"quartile\")\n",
    "plt.savefig('violinplot.png')"
   ]
  },
  {
   "cell_type": "code",
   "execution_count": 4,
   "metadata": {},
   "outputs": [],
   "source": [
    "# A,Bそれぞれのレートリストを作成する\n",
    "\n",
    "A_rates = df[(df.vote==\"A\") & (df.smamate_rate)][\"smamate_rate\"].to_list()\n",
    "B_rates = df[(df.vote==\"B\") & (df.smamate_rate)][\"smamate_rate\"].to_list()"
   ]
  },
  {
   "cell_type": "code",
   "execution_count": 77,
   "metadata": {},
   "outputs": [
    {
     "data": {
      "text/plain": [
       "(array([  1.,  19., 111., 117.,  58.,  31.,  13.,   3.,   0.]),\n",
       " array([1200., 1300., 1400., 1500., 1600., 1700., 1800., 1900., 2000.,\n",
       "        2100.]),\n",
       " <a list of 9 Patch objects>)"
      ]
     },
     "execution_count": 77,
     "metadata": {},
     "output_type": "execute_result"
    },
    {
     "data": {
      "text/plain": [
       "(array([  6.,  19., 121., 117.,  41.,  21.,   6.,   2.,   0.]),\n",
       " array([1200., 1300., 1400., 1500., 1600., 1700., 1800., 1900., 2000.,\n",
       "        2100.]),\n",
       " <a list of 9 Patch objects>)"
      ]
     },
     "execution_count": 77,
     "metadata": {},
     "output_type": "execute_result"
    },
    {
     "data": {
      "text/plain": [
       "([<matplotlib.axis.XTick at 0x15414b3a190>,\n",
       "  <matplotlib.axis.XTick at 0x15414b3a160>,\n",
       "  <matplotlib.axis.XTick at 0x1541446a9d0>,\n",
       "  <matplotlib.axis.XTick at 0x15414b87ee0>,\n",
       "  <matplotlib.axis.XTick at 0x15414b92430>,\n",
       "  <matplotlib.axis.XTick at 0x15414b92940>,\n",
       "  <matplotlib.axis.XTick at 0x15414b92e50>,\n",
       "  <matplotlib.axis.XTick at 0x15414b973a0>,\n",
       "  <matplotlib.axis.XTick at 0x15414b978b0>,\n",
       "  <matplotlib.axis.XTick at 0x15414b97dc0>],\n",
       " <a list of 10 Text major ticklabel objects>)"
      ]
     },
     "execution_count": 77,
     "metadata": {},
     "output_type": "execute_result"
    },
    {
     "data": {
      "text/plain": [
       "Text(0.5, 0, 'smamate_rate')"
      ]
     },
     "execution_count": 77,
     "metadata": {},
     "output_type": "execute_result"
    },
    {
     "data": {
      "text/plain": [
       "Text(0, 0.5, 'counts')"
      ]
     },
     "execution_count": 77,
     "metadata": {},
     "output_type": "execute_result"
    },
    {
     "data": {
      "text/plain": [
       "<matplotlib.legend.Legend at 0x154146480d0>"
      ]
     },
     "execution_count": 77,
     "metadata": {},
     "output_type": "execute_result"
    },
    {
     "data": {
      "image/png": "[encoded data removed]",
      "text/plain": [
       "<Figure size 432x288 with 1 Axes>"
      ]
     },
     "metadata": {
      "needs_background": "light"
     },
     "output_type": "display_data"
    }
   ],
   "source": [
    "# 回答ごとにレートをプロット\n",
    "# おおよそ同じ形状の分布をしていることを確認する\n",
    "\n",
    "fig = plt.figure()\n",
    "ax = fig.add_subplot(1, 1, 1)\n",
    "bins = np.linspace(1200, 2100, 10)\n",
    "ax.hist(A_rates, bins=bins, color=\"red\", alpha=0.5, label=\"A\")\n",
    "ax.hist(B_rates, bins=bins, color=\"blue\", alpha=0.4, label=\"B\")\n",
    "plt.xticks(bins)\n",
    "ax.set_xlabel('smamate_rate')\n",
    "ax.set_ylabel('counts')\n",
    "ax.legend(loc='upper right')\n",
    "plt.savefig(f\"smamate_rate.png\")\n",
    "plt.show()"
   ]
  },
  {
   "cell_type": "code",
   "execution_count": 120,
   "metadata": {},
   "outputs": [
    {
     "data": {
      "text/plain": [
       "0.0318115465980475"
      ]
     },
     "execution_count": 120,
     "metadata": {},
     "output_type": "execute_result"
    },
    {
     "data": {
      "text/plain": [
       "2.1469354808595975"
      ]
     },
     "execution_count": 120,
     "metadata": {},
     "output_type": "execute_result"
    },
    {
     "data": {
      "text/plain": [
       "0.08197037756005486"
      ]
     },
     "execution_count": 120,
     "metadata": {},
     "output_type": "execute_result"
    },
    {
     "data": {
      "text/plain": [
       "(0.09476048286246587, 'negligible')"
      ]
     },
     "execution_count": 120,
     "metadata": {},
     "output_type": "execute_result"
    },
    {
     "data": {
      "text/plain": [
       "0.0817555846129869"
      ]
     },
     "execution_count": 120,
     "metadata": {},
     "output_type": "execute_result"
    }
   ],
   "source": [
    "# マン･ホイットニーのU検定でA投票者とB投票者の2群間のレートに有意差があるか確かめる\n",
    "# 有意水準0.05、帰無仮説は｢2群間の代表値に差がない｣\n",
    "# http://www.statisticslectures.com/topics/mannwhitneyu/\n",
    "\n",
    "U,p_value = stats.mannwhitneyu(A_rates, B_rates, alternative='two-sided')\n",
    "\n",
    "E = (len(A_rates)*len(B_rates))/2\n",
    "V = math.sqrt((len(A_rates)*len(B_rates)*(len(A_rates)+len(B_rates)+1))/12)\n",
    "Z = (U-E)/V #Z値\n",
    "p_value\n",
    "Z\n",
    "\n",
    "# 効果量3種\n",
    "Z/math.sqrt(len(A_rates+B_rates)) # https://www.ok-data.com/entry/effect-size/\n",
    "cliffs_delta(A_rates, B_rates) # Cliff's Delta https://note.com/eiko_dokusho/n/ne20e3eae8d50\n",
    "math.sqrt(Z**2/(Z**2+len(A_rates)+len(B_rates)-1)) #r値らしいがソース不見当 https://shimpei.fun/?p=1259"
   ]
  },
  {
   "cell_type": "code",
   "execution_count": 7,
   "metadata": {},
   "outputs": [
    {
     "data": {
      "text/plain": [
       "2.3941340987688884"
      ]
     },
     "execution_count": 7,
     "metadata": {},
     "output_type": "execute_result"
    },
    {
     "data": {
      "text/plain": [
       "3.7795024007950033"
      ]
     },
     "execution_count": 7,
     "metadata": {},
     "output_type": "execute_result"
    },
    {
     "data": {
      "text/plain": [
       "37.90639879785393"
      ]
     },
     "execution_count": 7,
     "metadata": {},
     "output_type": "execute_result"
    }
   ],
   "source": [
    "# n1+n2>=100なのでZ検定も可\n",
    "\n",
    "n1, n2 = len(A_rates), len(B_rates)\n",
    "x1, x2 = sum(A_rates)/n1, sum(B_rates)/n2\n",
    "v1, v2 = np.var(A_rates, ddof=1), np.var(B_rates, ddof=1)\n",
    "T = (x1-x2)/math.sqrt(v1/n1 + v2/n2)\n",
    "T\n",
    "(x1-x2) - 1.96*math.sqrt(v1/n1 + v2/n2)\n",
    "(x1-x2) + 1.96*math.sqrt(v1/n1 + v2/n2)"
   ]
  },
  {
   "cell_type": "code",
   "execution_count": null,
   "metadata": {},
   "outputs": [],
   "source": []
  }
 ],
 "metadata": {
  "kernelspec": {
   "display_name": "Python 3",
   "language": "python",
   "name": "python3"
  },
  "language_info": {
   "codemirror_mode": {
    "name": "ipython",
    "version": 3
   },
   "file_extension": ".py",
   "mimetype": "text/x-python",
   "name": "python",
   "nbconvert_exporter": "python",
   "pygments_lexer": "ipython3",
   "version": "3.8.3"
  }
 },
 "nbformat": 4,
 "nbformat_minor": 4
}
