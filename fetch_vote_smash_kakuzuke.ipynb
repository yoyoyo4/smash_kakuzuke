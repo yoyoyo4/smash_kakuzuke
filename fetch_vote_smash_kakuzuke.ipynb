{
 "cells": [
  {
   "cell_type": "code",
   "execution_count": null,
   "metadata": {},
   "outputs": [],
   "source": [
    "# 2021年スマブラー格付けチェックの回答をTwitterAPIで取得し、csv出力と各種分析を行う"
   ]
  },
  {
   "cell_type": "code",
   "execution_count": null,
   "metadata": {},
   "outputs": [],
   "source": [
    "# 匿名化のため出力を削除している"
   ]
  },
  {
   "cell_type": "markdown",
   "metadata": {},
   "source": [
    "### 準備"
   ]
  },
  {
   "cell_type": "code",
   "execution_count": null,
   "metadata": {},
   "outputs": [],
   "source": [
    "import tweepy\n",
    "import datetime\n",
    "from pytz import timezone\n",
    "from collections import defaultdict\n",
    "import pandas as pd\n",
    "import matplotlib.pyplot as plt\n",
    "import seaborn as sns"
   ]
  },
  {
   "cell_type": "code",
   "execution_count": null,
   "metadata": {},
   "outputs": [],
   "source": [
    "from IPython.core.interactiveshell import InteractiveShell\n",
    "InteractiveShell.ast_node_interactivity = \"all\""
   ]
  },
  {
   "cell_type": "code",
   "execution_count": null,
   "metadata": {},
   "outputs": [],
   "source": [
    "pd.set_option('display.max_columns', None)\n",
    "pd.set_option('display.max_rows', 20)\n",
    "pd.set_option(\"display.max_colwidth\", 80)"
   ]
  },
  {
   "cell_type": "code",
   "execution_count": null,
   "metadata": {},
   "outputs": [],
   "source": [
    "# yyyyMMddHHmmss形式で現在の日本時間を出力\n",
    "def get_now():\n",
    "    now = datetime.datetime.now(datetime.timezone(datetime.timedelta(hours=9))) # 日本時刻\n",
    "    return now.strftime('%Y%m%d%H%M%S')"
   ]
  },
  {
   "cell_type": "code",
   "execution_count": null,
   "metadata": {},
   "outputs": [],
   "source": [
    "# 申請･取得したキーやトークンを入力する\n",
    "\n",
    "API_KEY = 'pppppppppppppppppppppppppp'\n",
    "API_SECRET_KEY = 'kkkkkkkkkkkkkkkkkkkkkkkkkkk'\n",
    "Access_token = 'mmmmmmmmmmmmmmmmmmmmm'\n",
    "Access_secret = 'nnnnnnnnnnnnnnnnnnnnnn'"
   ]
  },
  {
   "cell_type": "code",
   "execution_count": null,
   "metadata": {},
   "outputs": [],
   "source": [
    "auth = tweepy.OAuthHandler(API_KEY, API_SECRET_KEY)\n",
    "auth.set_access_token(Access_token, Access_secret)\n",
    "api = tweepy.API(auth, wait_on_rate_limit=True) # wait_on_rate_limit=True, API上限到達時に自動で待機する"
   ]
  },
  {
   "cell_type": "markdown",
   "metadata": {},
   "source": [
    "### データ取得"
   ]
  },
  {
   "cell_type": "code",
   "execution_count": null,
   "metadata": {},
   "outputs": [],
   "source": [
    "# ｢Aの部屋に投票した人｣と判定する条件 (Bの部屋についても同様に定める)\n",
    "# 2021/12/29 18:00 から 2021/12/30 17:59の間に、#Aの部屋 のハッシュタグを含み #Bの部屋 のハッシュタグを含まないツイートをした\n",
    "\n",
    "# 以下の条件も検討していたが、引用RTは取得できず、RTユーザーは約100件しか取得できなかった(cf.https://mura-shin.com/python_twitter/)ので断念\n",
    "# 2. 出題ツイートの引用RTにて、文字列\"A\"を含み\"B\"を含まないツイートをしている\n",
    "# 3. 出題ツイートを通常RTした後の10分以内の直近のツイートにて、文字列\"A\"を含み\"B\"を含まないツイートをしている"
   ]
  },
  {
   "cell_type": "code",
   "execution_count": null,
   "metadata": {},
   "outputs": [],
   "source": [
    "# 出題ツイートID\n",
    "nietono_tw_id = 1476116006825521160"
   ]
  },
  {
   "cell_type": "code",
   "execution_count": null,
   "metadata": {},
   "outputs": [],
   "source": [
    "# 回答ツイートとユーザー情報を取得\n",
    "\n",
    "room_names = [\"A\", \"B\"]\n",
    "tw_data = defaultdict(list)\n",
    "\n",
    "for vote_to, unvote_to in zip(room_names, reversed(room_names)):\n",
    "    for tweet in tweepy.Cursor(api.search_tweets, q=f\"#{vote_to}の部屋 AND -#{unvote_to}の部屋\", since_id=nietono_tw_id, until='2021-12-30_17:59:59_JST', result_type=\"recent\").items():\n",
    "        if tweet.text[0:4]==\"RT @\": # 単純RTや、引用RTのRT(例:1476301813599068161)はtweet.text[0:4]==\"RT @\"となることを利用して除く\n",
    "            continue\n",
    "        else:\n",
    "            tw_data[\"vote\"].append(vote_to)\n",
    "            tw_data[\"tw_time\"].append(tweet.created_at.astimezone(timezone('Asia/Tokyo'))) # JSTに修正\n",
    "            tw_data[\"user_id\"].append(tweet.user.id)\n",
    "            tw_data[\"user_name\"].append(tweet.user.name)\n",
    "            tw_data[\"user_screen_name\"].append(tweet.user.screen_name)\n",
    "            tw_data[\"user_followers_count\"].append(tweet.user.followers_count)\n",
    "            tw_data[\"url\"].append(f\"twitter.com/{tweet.user.screen_name}/status/{tweet.id}\")\n",
    "            tw_data[\"is_quote\"].append(tweet.is_quote_status)\n",
    "\n",
    "df_vote = pd.DataFrame.from_dict(tw_data)\n",
    "df_vote.to_csv(\"df_vote_\" + get_now() + \".csv\", index=False, encoding=\"utf-8-sig\") # 時刻付きで出力\n",
    "df_vote"
   ]
  },
  {
   "cell_type": "markdown",
   "metadata": {},
   "source": [
    "### データ加工･出力"
   ]
  },
  {
   "cell_type": "code",
   "execution_count": null,
   "metadata": {},
   "outputs": [],
   "source": [
    "# 何度か分けて取得したデータをマージ。各ユーザーごとに最後の回答だけ残す\n",
    "\n",
    "df_vote = pd.DataFrame()\n",
    "for yyyyMMddHHmmss in [20211230173339, 20211230175952, 20211230181450, 20211230183555]:\n",
    "    df_vote = pd.concat([df_vote, pd.read_csv(f\"df_vote_{yyyyMMddHHmmss}.csv\")])\n",
    "\n",
    "df_vote = (df_vote\n",
    "           .sort_values([\"tw_time\"])\n",
    "           .drop_duplicates(\"user_id\", keep=\"last\")\n",
    "          )\n",
    "\n",
    "# メインキャラ別集計のため、取り忘れたユーザープロフを取得\n",
    "user_prof = []\n",
    "for user_id in df_vote.user_id:\n",
    "    try:\n",
    "        user_prof.append(api.get_user(user_id = user_id).description)\n",
    "    except:\n",
    "        user_prof.append(\"\")\n",
    "df_vote[\"user_prof\"] = user_prof"
   ]
  },
  {
   "cell_type": "code",
   "execution_count": null,
   "metadata": {},
   "outputs": [],
   "source": [
    "# 出力前にデータフレーム修正\n",
    "\n",
    "# 文字列を与えると、ソニック使用者と推定されるかピクオリ使用者と推定されるかそれ以外かを返す\n",
    "def sonic_pikmin_flg(prof):\n",
    "    prof = prof.lower() # 小文字に統一\n",
    "    if any(x in prof for x in [\"ソニック\", \"sonic\"]):\n",
    "        return \"sonic\"\n",
    "    if any(x in prof for x in [\"ピクオリ\",\"ピクミン\",\"オリマー\",\"アルフ\",\"pikmin\",\"olimar\", \"alph\"]):\n",
    "        return \"pikmin\"\n",
    "    else:\n",
    "        return \"other\"\n",
    "\n",
    "# ユーザープロフから｢ソニック｣｢ピクオリ｣使用者を抽出する\n",
    "df_vote[\"main\"] = df_vote[\"user_prof\"].apply(sonic_pikmin_flg)\n",
    "\n",
    "# カラム名修正\n",
    "df_vote.columns = [x.replace(\"user\",\"twitter_user\").replace(\"url\",\"vote_url\") for x in df_vote.columns]\n",
    "\n",
    "# 出題後何時間後のツイートかカラム追加\n",
    "df_vote[\"delta_hours\"] = (df_vote[\"tw_time\"].apply(pd.to_datetime)-pd.to_datetime(\"2021-12-29 18:00:00+09:00\")).dt.total_seconds().apply(lambda x: int(x/3600))\n",
    "\n",
    "# 出力\n",
    "df_vote.to_csv(\"df_vote.csv\", index=False, encoding=\"utf-8-sig\")\n",
    "df_vote"
   ]
  },
  {
   "cell_type": "markdown",
   "metadata": {},
   "source": [
    "### 集計、図示"
   ]
  },
  {
   "cell_type": "code",
   "execution_count": null,
   "metadata": {},
   "outputs": [],
   "source": [
    "# 投票数集計\n",
    "# 出題ツイートのアンケとは異なりBの方が多い模様\n",
    "\n",
    "df_vote.vote.value_counts()\n",
    "df_vote.vote.value_counts(normalize=True)"
   ]
  },
  {
   "cell_type": "code",
   "execution_count": null,
   "metadata": {},
   "outputs": [],
   "source": [
    "# 回答ごとの基本統計量\n",
    "df_vote[['vote', 'tw_time', 'twitter_user_followers_count', 'delta_hours']].groupby(\"vote\").describe().T"
   ]
  },
  {
   "cell_type": "markdown",
   "metadata": {},
   "source": [
    "#### 使用キャラ別集計"
   ]
  },
  {
   "cell_type": "code",
   "execution_count": null,
   "metadata": {},
   "outputs": [],
   "source": [
    "# 動画に出てくるキャラを使用している人は正解率が高いか？\n",
    "\n",
    "df_vote[df_vote.main.isin([\"sonic\", \"pikmin\"])].vote.value_counts()\n",
    "df_vote[df_vote.main.isin([\"sonic\", \"pikmin\"])].vote.value_counts(normalize=True)"
   ]
  },
  {
   "cell_type": "code",
   "execution_count": null,
   "metadata": {},
   "outputs": [],
   "source": [
    "# ソニック使いに限定\n",
    "\n",
    "df_vote[df_vote.main == \"sonic\"].vote.value_counts()\n",
    "df_vote[df_vote.main == \"sonic\"].vote.value_counts(normalize=True)"
   ]
  },
  {
   "cell_type": "code",
   "execution_count": null,
   "metadata": {},
   "outputs": [],
   "source": [
    "# ピクオリ使いに限定\n",
    "\n",
    "df_vote[df_vote.main == \"pikmin\"].vote.value_counts()\n",
    "df_vote[df_vote.main == \"pikmin\"].vote.value_counts(normalize=True)"
   ]
  },
  {
   "cell_type": "markdown",
   "metadata": {},
   "source": [
    "#### フォロワー数ヒストグラム"
   ]
  },
  {
   "cell_type": "code",
   "execution_count": null,
   "metadata": {},
   "outputs": [],
   "source": [
    "# 集計データフレームとフォロワー数の下限と上限を与えると、A、B投票ごとにヒストグラムを表示する\n",
    "def followers_hist(df, f_min, f_max):\n",
    "    fig = plt.figure()\n",
    "    ax = fig.add_subplot(1, 1, 1)\n",
    "    ax.hist(df[(df.vote == \"A\") & (df.user_followers_count >= f_min) & (df.user_followers_count <= f_max)].user_followers_count, bins=30, color=\"red\", alpha=0.7, label=\"A\")\n",
    "    ax.hist(df[(df.vote == \"B\") & (df.user_followers_count >= f_min) & (df.user_followers_count <= f_max)].user_followers_count, bins=30, color=\"blue\", alpha=0.5, label=\"B\")\n",
    "    ax.set_xlabel('user_followers_count')\n",
    "    ax.set_ylabel('counts')\n",
    "    ax.legend(loc='upper right')\n",
    "    plt.savefig(f\"followers_hist_{f_min}_{f_max}.png\")\n",
    "    plt.show()"
   ]
  },
  {
   "cell_type": "code",
   "execution_count": null,
   "metadata": {},
   "outputs": [],
   "source": [
    "# フォロワー数ヒストグラム。2000人以下を集計\n",
    "followers_hist(0, 2000)"
   ]
  },
  {
   "cell_type": "code",
   "execution_count": null,
   "metadata": {},
   "outputs": [],
   "source": [
    "# フォロワー数ヒストグラム。1000人以上2万人以下を集計\n",
    "followers_hist(1000, 20000)"
   ]
  },
  {
   "cell_type": "code",
   "execution_count": null,
   "metadata": {},
   "outputs": [],
   "source": [
    "# フォロワー数箱ひげ図\n",
    "sns.boxplot(x=df_vote.vote, y=df_vote.twitter_user_followers_count, palette=['red','dodgerblue'])\n",
    "plt.ylim(0, 2000)\n",
    "plt.savefig('boxplot_followers.png')"
   ]
  },
  {
   "cell_type": "markdown",
   "metadata": {},
   "source": [
    "#### 経過時間別集計"
   ]
  },
  {
   "cell_type": "code",
   "execution_count": null,
   "metadata": {},
   "outputs": [],
   "source": [
    "# 経過時間ごとの回答数\n",
    "\n",
    "df_per_hour = (df_vote\n",
    "               .groupby([\"delta_hours\", \"vote\"], as_index=False).count()\n",
    "               [[\"delta_hours\", \"vote\", \"vote_url\"]]\n",
    "               .rename(columns={\"vote_url\":\"n_vote\"})\n",
    "              )\n",
    "ax = df_per_hour.groupby([\"delta_hours\", \"vote\"]).sum().unstack().plot.bar(rot=0, color=[\"r\", \"b\"])\n",
    "ax.set_ylabel('n_vote')\n",
    "ax.figure.set_size_inches((13,6))\n",
    "plt.savefig(\"AB_per_hours.png\")\n",
    "plt.show()"
   ]
  },
  {
   "cell_type": "code",
   "execution_count": null,
   "metadata": {},
   "outputs": [],
   "source": [
    "# 経過時間ごとの正解率\n",
    "\n",
    "df_ratio_per_hour = (df_per_hour\n",
    "                     .assign(n_vote_per_hour = lambda x: x.groupby(\"delta_hours\")[\"n_vote\"].transform(\"sum\"))\n",
    "                     .pipe(lambda x: x[x.vote == \"A\"])\n",
    "                     .assign(A_ratio = lambda x: x.n_vote / x.n_vote_per_hour)\n",
    "                    )\n",
    "ax = df_ratio_per_hour.plot.bar(x='delta_hours', y='A_ratio', color=\"g\", rot=0, legend=False)\n",
    "ax.set_ylabel('A_ratio')\n",
    "ax.figure.set_size_inches((13,6))\n",
    "plt.savefig(\"A_ratio_per_hours.png\")\n",
    "plt.show()"
   ]
  },
  {
   "cell_type": "code",
   "execution_count": null,
   "metadata": {},
   "outputs": [],
   "source": [
    "# 経過時間と正解率の相関\n",
    "\n",
    "df_ratio_per_hour.corr()"
   ]
  }
 ],
 "metadata": {
  "kernelspec": {
   "display_name": "Python 3",
   "language": "python",
   "name": "python3"
  },
  "language_info": {
   "codemirror_mode": {
    "name": "ipython",
    "version": 3
   },
   "file_extension": ".py",
   "mimetype": "text/x-python",
   "name": "python",
   "nbconvert_exporter": "python",
   "pygments_lexer": "ipython3",
   "version": "3.8.3"
  }
 },
 "nbformat": 4,
 "nbformat_minor": 4
}
